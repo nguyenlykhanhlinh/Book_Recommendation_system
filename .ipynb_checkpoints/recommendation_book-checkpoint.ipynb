{
 "cells": [
  {
   "cell_type": "code",
   "execution_count": 26,
   "metadata": {},
   "outputs": [],
   "source": [
    "import pyspark as ps\n",
    "from pyspark.sql import SQLContext\n",
    "from pyspark.ml.evaluation import RegressionEvaluator\n",
    "from pyspark.ml.recommendation import ALS, ALSModel\n",
    "from pyspark.sql.functions import col"
   ]
  },
  {
   "cell_type": "code",
   "execution_count": 2,
   "metadata": {},
   "outputs": [],
   "source": [
    "import numpy as np"
   ]
  },
  {
   "cell_type": "code",
   "execution_count": 3,
   "metadata": {},
   "outputs": [],
   "source": [
    "from IPython.display import display, Image\n",
    "\n",
    "spark = ps.sql.SparkSession.builder \\\n",
    "            .master(\"local\") \\\n",
    "            .appName(\"book_recommendation\") \\\n",
    "            .getOrCreate()\n",
    "\n",
    "sc = spark.sparkContext\n",
    "sqlContext = SQLContext(sc)"
   ]
  },
  {
   "cell_type": "code",
   "execution_count": 4,
   "metadata": {},
   "outputs": [
    {
     "name": "stdout",
     "output_type": "stream",
     "text": [
      "root\n",
      " |-- book_id: integer (nullable = true)\n",
      " |-- user_id: integer (nullable = true)\n",
      " |-- rating: integer (nullable = true)\n",
      "\n"
     ]
    }
   ],
   "source": [
    "ratings_df = spark.read.csv('goodbooks-10k/ratings.csv', header=True, inferSchema=True)\n",
    "ratings_df.printSchema()"
   ]
  },
  {
   "cell_type": "code",
   "execution_count": 5,
   "metadata": {},
   "outputs": [
    {
     "name": "stdout",
     "output_type": "stream",
     "text": [
      "+-------+-------+------+\n",
      "|book_id|user_id|rating|\n",
      "+-------+-------+------+\n",
      "|      1|    314|     5|\n",
      "|      1|    439|     3|\n",
      "|      1|    588|     5|\n",
      "|      1|   1169|     4|\n",
      "|      1|   1185|     4|\n",
      "+-------+-------+------+\n",
      "only showing top 5 rows\n",
      "\n"
     ]
    }
   ],
   "source": [
    "ratings_df.show(5)"
   ]
  },
  {
   "cell_type": "code",
   "execution_count": 6,
   "metadata": {},
   "outputs": [
    {
     "name": "stdout",
     "output_type": "stream",
     "text": [
      "root\n",
      " |-- id: integer (nullable = true)\n",
      " |-- book_id: integer (nullable = true)\n",
      " |-- best_book_id: integer (nullable = true)\n",
      " |-- work_id: integer (nullable = true)\n",
      " |-- books_count: integer (nullable = true)\n",
      " |-- isbn: string (nullable = true)\n",
      " |-- isbn13: double (nullable = true)\n",
      " |-- authors: string (nullable = true)\n",
      " |-- original_publication_year: double (nullable = true)\n",
      " |-- original_title: string (nullable = true)\n",
      " |-- title: string (nullable = true)\n",
      " |-- language_code: string (nullable = true)\n",
      " |-- average_rating: string (nullable = true)\n",
      " |-- ratings_count: string (nullable = true)\n",
      " |-- work_ratings_count: string (nullable = true)\n",
      " |-- work_text_reviews_count: string (nullable = true)\n",
      " |-- ratings_1: double (nullable = true)\n",
      " |-- ratings_2: integer (nullable = true)\n",
      " |-- ratings_3: integer (nullable = true)\n",
      " |-- ratings_4: integer (nullable = true)\n",
      " |-- ratings_5: integer (nullable = true)\n",
      " |-- image_url: string (nullable = true)\n",
      " |-- small_image_url: string (nullable = true)\n",
      "\n"
     ]
    }
   ],
   "source": [
    "books_df = spark.read.csv('goodbooks-10k/books.csv', header=True, inferSchema=True)\n",
    "books_df.printSchema()"
   ]
  },
  {
   "cell_type": "code",
   "execution_count": 7,
   "metadata": {},
   "outputs": [
    {
     "name": "stdout",
     "output_type": "stream",
     "text": [
      "+---+-------+------------+-------+-----------+---------+----------------+--------------------+-------------------------+--------------------+--------------------+-------------+--------------+-------------+------------------+-----------------------+---------+---------+---------+---------+---------+--------------------+--------------------+\n",
      "| id|book_id|best_book_id|work_id|books_count|     isbn|          isbn13|             authors|original_publication_year|      original_title|               title|language_code|average_rating|ratings_count|work_ratings_count|work_text_reviews_count|ratings_1|ratings_2|ratings_3|ratings_4|ratings_5|           image_url|     small_image_url|\n",
      "+---+-------+------------+-------+-----------+---------+----------------+--------------------+-------------------------+--------------------+--------------------+-------------+--------------+-------------+------------------+-----------------------+---------+---------+---------+---------+---------+--------------------+--------------------+\n",
      "|  1|2767052|     2767052|2792775|        272|439023483|9.78043902348E12|     Suzanne Collins|                   2008.0|    The Hunger Games|The Hunger Games ...|          eng|          4.34|      4780653|           4942365|                 155254|  66715.0|   127936|   560092|  1481305|  2706317|https://images.gr...|https://images.gr...|\n",
      "|  2|      3|           3|4640799|        491|439554934|9.78043955493E12|J.K. Rowling, Mar...|                   1997.0|Harry Potter and ...|Harry Potter and ...|          eng|          4.44|      4602479|           4800065|                  75867|  75504.0|   101676|   455024|  1156318|  3011543|https://images.gr...|https://images.gr...|\n",
      "|  3|  41865|       41865|3212258|        226|316015849|9.78031601584E12|     Stephenie Meyer|                   2005.0|            Twilight|Twilight (Twiligh...|        en-US|          3.57|      3866839|           3916824|                  95009| 456191.0|   436802|   793319|   875073|  1355439|https://images.gr...|https://images.gr...|\n",
      "|  4|   2657|        2657|3275794|        487| 61120081|9.78006112008E12|          Harper Lee|                   1960.0|To Kill a Mocking...|To Kill a Mocking...|          eng|          4.25|      3198671|           3340896|                  72586|  60427.0|   117415|   446835|  1001952|  1714267|https://images.gr...|https://images.gr...|\n",
      "|  5|   4671|        4671| 245494|       1356|743273567|9.78074327356E12| F. Scott Fitzgerald|                   1925.0|    The Great Gatsby|    The Great Gatsby|          eng|          3.89|      2683664|           2773745|                  51992|  86236.0|   197621|   606158|   936012|   947718|https://images.gr...|https://images.gr...|\n",
      "+---+-------+------------+-------+-----------+---------+----------------+--------------------+-------------------------+--------------------+--------------------+-------------+--------------+-------------+------------------+-----------------------+---------+---------+---------+---------+---------+--------------------+--------------------+\n",
      "only showing top 5 rows\n",
      "\n"
     ]
    }
   ],
   "source": [
    "books_df.show(5)"
   ]
  },
  {
   "cell_type": "code",
   "execution_count": 8,
   "metadata": {},
   "outputs": [],
   "source": [
    "traning_df, test_df = ratings_df.randomSplit([0.8, 0.2])"
   ]
  },
  {
   "cell_type": "code",
   "execution_count": 9,
   "metadata": {},
   "outputs": [],
   "source": [
    "iterations = 10\n",
    "regularization_parameter = 0.1\n",
    "ranks = 5\n",
    "errors = []\n",
    "err = 0"
   ]
  },
  {
   "cell_type": "code",
   "execution_count": 10,
   "metadata": {},
   "outputs": [
    {
     "name": "stdout",
     "output_type": "stream",
     "text": [
      "Root-mean-square error = 0.9030160199185534\n"
     ]
    }
   ],
   "source": [
    "als = ALS(maxIter=iterations, regParam=regularization_parameter, rank=ranks, userCol=\"user_id\", itemCol=\"book_id\", ratingCol=\"rating\")\n",
    "model = als.fit(traning_df)\n",
    "predictions = model.transform(test_df)\n",
    "new_predictions = predictions.filter(col('prediction') != np.nan)\n",
    "evaluator = RegressionEvaluator(metricName=\"rmse\", labelCol=\"rating\", predictionCol=\"prediction\")\n",
    "rmse = evaluator.evaluate(new_predictions)\n",
    "print(\"Root-mean-square error = \" + str(rmse))"
   ]
  },
  {
   "cell_type": "code",
   "execution_count": 11,
   "metadata": {},
   "outputs": [
    {
     "name": "stdout",
     "output_type": "stream",
     "text": [
      "+-------+-------+------+----------+\n",
      "|book_id|user_id|rating|prediction|\n",
      "+-------+-------+------+----------+\n",
      "|    148|  26629|     4|  3.852192|\n",
      "|    148|  28767|     3| 3.1634703|\n",
      "|    148|  41282|     3|  4.050268|\n",
      "|    148|  13034|     4| 3.4521158|\n",
      "|    148|  32055|     3|  3.137745|\n",
      "+-------+-------+------+----------+\n",
      "only showing top 5 rows\n",
      "\n"
     ]
    }
   ],
   "source": [
    "predictions = model.transform(test_df)\n",
    "predictions.show(5)"
   ]
  },
  {
   "cell_type": "code",
   "execution_count": 12,
   "metadata": {},
   "outputs": [
    {
     "name": "stdout",
     "output_type": "stream",
     "text": [
      "+-------+----------+----------+\n",
      "|user_id|     title|prediction|\n",
      "+-------+----------+----------+\n",
      "|  12014|Lysistrata| 3.9371243|\n",
      "|   6213|Lysistrata| 2.8817964|\n",
      "|   6460|Lysistrata|  4.122798|\n",
      "|  40418|Lysistrata|  3.372207|\n",
      "|  37449|Lysistrata| 4.8577294|\n",
      "+-------+----------+----------+\n",
      "only showing top 5 rows\n",
      "\n"
     ]
    }
   ],
   "source": [
    "predictions.join(books_df, \"book_id\").select(\"user_id\", \"title\", \"prediction\").show(5)"
   ]
  },
  {
   "cell_type": "code",
   "execution_count": 13,
   "metadata": {},
   "outputs": [
    {
     "data": {
      "text/plain": [
       "3"
      ]
     },
     "execution_count": 13,
     "metadata": {},
     "output_type": "execute_result"
    }
   ],
   "source": [
    "for_one_user = predictions.filter(col('user_id') == 35982).join(books_df, \"book_id\").select(\"user_id\", \"title\", \"image_url\", \"prediction\")\n",
    "for_one_user.count()"
   ]
  },
  {
   "cell_type": "code",
   "execution_count": 14,
   "metadata": {},
   "outputs": [
    {
     "name": "stdout",
     "output_type": "stream",
     "text": [
      "+-------+--------------------+--------------------+----------+\n",
      "|user_id|               title|           image_url|prediction|\n",
      "+-------+--------------------+--------------------+----------+\n",
      "|  35982|The Innocent Man:...|https://s.gr-asse...|  3.324088|\n",
      "|  35982|Another Bullshit ...|https://s.gr-asse...| 3.5430372|\n",
      "|  35982|The Portrait of a...|https://images.gr...|  3.643324|\n",
      "+-------+--------------------+--------------------+----------+\n",
      "\n"
     ]
    }
   ],
   "source": [
    "for_one_user.show()"
   ]
  },
  {
   "cell_type": "code",
   "execution_count": 15,
   "metadata": {},
   "outputs": [
    {
     "name": "stdout",
     "output_type": "stream",
     "text": [
      "The Innocent Man: Murder and Injustice in a Small Town\n"
     ]
    },
    {
     "data": {
      "text/html": [
       "<img src=\"https://s.gr-assets.com/assets/nophoto/book/111x148-bcc042a9c91a29c1d680899eff700a03.png\"/>"
      ],
      "text/plain": [
       "<IPython.core.display.Image object>"
      ]
     },
     "metadata": {},
     "output_type": "display_data"
    },
    {
     "name": "stdout",
     "output_type": "stream",
     "text": [
      "3.3240880966186523\n",
      "Another Bullshit Night in Suck City\n"
     ]
    },
    {
     "data": {
      "text/html": [
       "<img src=\"https://s.gr-assets.com/assets/nophoto/book/111x148-bcc042a9c91a29c1d680899eff700a03.png\"/>"
      ],
      "text/plain": [
       "<IPython.core.display.Image object>"
      ]
     },
     "metadata": {},
     "output_type": "display_data"
    },
    {
     "name": "stdout",
     "output_type": "stream",
     "text": [
      "3.543037176132202\n",
      "The Portrait of a Lady\n"
     ]
    },
    {
     "data": {
      "text/html": [
       "<img src=\"https://images.gr-assets.com/books/1502148606m/264.jpg\"/>"
      ],
      "text/plain": [
       "<IPython.core.display.Image object>"
      ]
     },
     "metadata": {},
     "output_type": "display_data"
    },
    {
     "name": "stdout",
     "output_type": "stream",
     "text": [
      "3.6433238983154297\n"
     ]
    }
   ],
   "source": [
    "for book in for_one_user.collect():\n",
    "    print(book.title)\n",
    "    display(Image(url=book.image_url))\n",
    "    print(book.prediction)"
   ]
  },
  {
   "cell_type": "code",
   "execution_count": 16,
   "metadata": {},
   "outputs": [],
   "source": [
    "userRecs = model.recommendForAllUsers(5)\n",
    "bookRecs = model.recommendForAllItems(5)"
   ]
  },
  {
   "cell_type": "code",
   "execution_count": 17,
   "metadata": {},
   "outputs": [
    {
     "name": "stdout",
     "output_type": "stream",
     "text": [
      "+-------+------------------------------+\n",
      "|user_id|book_id                       |\n",
      "+-------+------------------------------+\n",
      "|148    |[862, 6920, 1788, 7401, 6590] |\n",
      "|463    |[3124, 192, 5344, 3746, 9110] |\n",
      "|471    |[5084, 3660, 3086, 4344, 8973]|\n",
      "|496    |[4874, 6591, 9531, 5294, 3628]|\n",
      "|833    |[9569, 3615, 8976, 4778, 7762]|\n",
      "|1088   |[5084, 9537, 5400, 8973, 2209]|\n",
      "|1238   |[8013, 7947, 1338, 2236, 4868]|\n",
      "|1342   |[6920, 5207, 9566, 6590, 7254]|\n",
      "|1580   |[7254, 5207, 6590, 9531, 5580]|\n",
      "|1591   |[3885, 9842, 6928, 8926, 4594]|\n",
      "+-------+------------------------------+\n",
      "only showing top 10 rows\n",
      "\n"
     ]
    }
   ],
   "source": [
    "userRecs.select(\"user_id\", \"recommendations.book_id\").show(10, False)"
   ]
  },
  {
   "cell_type": "code",
   "execution_count": 18,
   "metadata": {},
   "outputs": [
    {
     "name": "stdout",
     "output_type": "stream",
     "text": [
      "+-------+-----------------------------------+\n",
      "|book_id|user_id                            |\n",
      "+-------+-----------------------------------+\n",
      "|1580   |[26131, 49594, 50333, 46973, 27969]|\n",
      "|4900   |[11963, 504, 17623, 23475, 33032]  |\n",
      "|5300   |[46594, 39323, 37327, 3054, 3673]  |\n",
      "|6620   |[49001, 49594, 26131, 30441, 38202]|\n",
      "|7240   |[26131, 504, 49360, 52461, 26305]  |\n",
      "|7340   |[26131, 26305, 49594, 27807, 20992]|\n",
      "|7880   |[34547, 36647, 26131, 30757, 17623]|\n",
      "|9900   |[48949, 32700, 17623, 13145, 47997]|\n",
      "|471    |[50333, 34886, 26131, 23717, 37507]|\n",
      "|1591   |[49594, 50333, 37327, 49897, 50307]|\n",
      "+-------+-----------------------------------+\n",
      "only showing top 10 rows\n",
      "\n"
     ]
    }
   ],
   "source": [
    "bookRecs.select(\"book_id\", \"recommendations.user_id\").show(10, False)"
   ]
  },
  {
   "cell_type": "code",
   "execution_count": 23,
   "metadata": {},
   "outputs": [],
   "source": [
    "model.save(\"book_recommendation.parquet\")"
   ]
  },
  {
   "cell_type": "code",
   "execution_count": 27,
   "metadata": {},
   "outputs": [],
   "source": [
    "model = ALSModel.load(\"book_recommendation_model\")"
   ]
  }
 ],
 "metadata": {
  "kernelspec": {
   "display_name": "Python 3 (ipykernel)",
   "language": "python",
   "name": "python3"
  },
  "language_info": {
   "codemirror_mode": {
    "name": "ipython",
    "version": 3
   },
   "file_extension": ".py",
   "mimetype": "text/x-python",
   "name": "python",
   "nbconvert_exporter": "python",
   "pygments_lexer": "ipython3",
   "version": "3.11.3"
  }
 },
 "nbformat": 4,
 "nbformat_minor": 2
}
