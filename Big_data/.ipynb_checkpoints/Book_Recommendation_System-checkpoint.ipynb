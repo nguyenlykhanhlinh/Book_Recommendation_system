{
 "cells": [
  {
   "cell_type": "code",
   "execution_count": 35,
   "id": "fbe62caf",
   "metadata": {},
   "outputs": [],
   "source": [
    "import pyspark as ps\n",
    "from pyspark.sql import SQLContext, SparkSession \n",
    "from pyspark.ml import Pipeline\n",
    "from pyspark.sql import Row\n",
    "from pyspark.ml.recommendation import ALS\n",
    "from pyspark.sql.functions import udf, col, when\n",
    "import numpy as np\n",
    "from IPython.display import Image\n",
    "from IPython.display import display"
   ]
  },
  {
   "cell_type": "code",
   "execution_count": 36,
   "id": "f13a63b0",
   "metadata": {
    "scrolled": false
   },
   "outputs": [],
   "source": [
    "spark = ps.sql.SparkSession.builder \\\n",
    "            .master(\"local\") \\\n",
    "            .appName(\"Book_recommendation\") \\\n",
    "            .getOrCreate()\n",
    "\n",
    "sc = spark.sparkContext\n",
    "sqlContext = SQLContext(sc)\n",
    "\n"
   ]
  },
  {
   "cell_type": "code",
   "execution_count": 37,
   "id": "615cbcaa",
   "metadata": {
    "scrolled": true
   },
   "outputs": [
    {
     "name": "stdout",
     "output_type": "stream",
     "text": [
      "root\n",
      " |-- book_id: integer (nullable = true)\n",
      " |-- user_id: integer (nullable = true)\n",
      " |-- rating: integer (nullable = true)\n",
      "\n",
      "root\n",
      " |-- id: integer (nullable = true)\n",
      " |-- book_id: integer (nullable = true)\n",
      " |-- best_book_id: integer (nullable = true)\n",
      " |-- work_id: integer (nullable = true)\n",
      " |-- books_count: integer (nullable = true)\n",
      " |-- isbn: string (nullable = true)\n",
      " |-- isbn13: double (nullable = true)\n",
      " |-- authors: string (nullable = true)\n",
      " |-- original_publication_year: double (nullable = true)\n",
      " |-- original_title: string (nullable = true)\n",
      " |-- title: string (nullable = true)\n",
      " |-- language_code: string (nullable = true)\n",
      " |-- average_rating: string (nullable = true)\n",
      " |-- ratings_count: string (nullable = true)\n",
      " |-- work_ratings_count: string (nullable = true)\n",
      " |-- work_text_reviews_count: string (nullable = true)\n",
      " |-- ratings_1: double (nullable = true)\n",
      " |-- ratings_2: integer (nullable = true)\n",
      " |-- ratings_3: integer (nullable = true)\n",
      " |-- ratings_4: integer (nullable = true)\n",
      " |-- ratings_5: integer (nullable = true)\n",
      " |-- image_url: string (nullable = true)\n",
      " |-- small_image_url: string (nullable = true)\n",
      "\n"
     ]
    }
   ],
   "source": [
    "ratings_df = spark.read.csv('C:/Users/MyPC/Documents/PYTHON/Big_data/Big_data/goodbooks-10k/ratings.csv', header=True, inferSchema=True)\n",
    "ratings_df.printSchema()\n",
    "\n",
    "books_df = spark.read.csv('C:/Users/MyPC/Documents/PYTHON/Big_data/Big_data/goodbooks-10k/books.csv', header=True, inferSchema=True)\n",
    "books_df.printSchema()"
   ]
  },
  {
   "cell_type": "code",
   "execution_count": 38,
   "id": "057e89d8",
   "metadata": {},
   "outputs": [
    {
     "name": "stdout",
     "output_type": "stream",
     "text": [
      "+-------+-------+------+\n",
      "|book_id|user_id|rating|\n",
      "+-------+-------+------+\n",
      "|      1|    314|     5|\n",
      "|      1|    439|     3|\n",
      "|      1|    588|     5|\n",
      "|      1|   1169|     4|\n",
      "|      1|   1185|     4|\n",
      "+-------+-------+------+\n",
      "only showing top 5 rows\n",
      "\n"
     ]
    }
   ],
   "source": [
    "ratings_df.show(5)"
   ]
  },
  {
   "cell_type": "code",
   "execution_count": 40,
   "id": "9122fbb4",
   "metadata": {},
   "outputs": [
    {
     "name": "stdout",
     "output_type": "stream",
     "text": [
      "+---+-------+------------+-------+-----------+---------+----------------+---------------+-------------------------+----------------+--------------------+-------------+--------------+-------------+------------------+-----------------------+---------+---------+---------+---------+---------+--------------------+--------------------+\n",
      "| id|book_id|best_book_id|work_id|books_count|     isbn|          isbn13|        authors|original_publication_year|  original_title|               title|language_code|average_rating|ratings_count|work_ratings_count|work_text_reviews_count|ratings_1|ratings_2|ratings_3|ratings_4|ratings_5|           image_url|     small_image_url|\n",
      "+---+-------+------------+-------+-----------+---------+----------------+---------------+-------------------------+----------------+--------------------+-------------+--------------+-------------+------------------+-----------------------+---------+---------+---------+---------+---------+--------------------+--------------------+\n",
      "|  1|2767052|     2767052|2792775|        272|439023483|9.78043902348E12|Suzanne Collins|                   2008.0|The Hunger Games|The Hunger Games ...|          eng|          4.34|      4780653|           4942365|                 155254|  66715.0|   127936|   560092|  1481305|  2706317|https://images.gr...|https://images.gr...|\n",
      "+---+-------+------------+-------+-----------+---------+----------------+---------------+-------------------------+----------------+--------------------+-------------+--------------+-------------+------------------+-----------------------+---------+---------+---------+---------+---------+--------------------+--------------------+\n",
      "only showing top 1 row\n",
      "\n"
     ]
    }
   ],
   "source": [
    "books_df.show(1)"
   ]
  },
  {
   "cell_type": "code",
   "execution_count": 41,
   "id": "179bc711",
   "metadata": {},
   "outputs": [],
   "source": [
    "training_df, validation_df = ratings_df.randomSplit([.8, .2])"
   ]
  },
  {
   "cell_type": "code",
   "execution_count": 42,
   "id": "d1e8a941",
   "metadata": {},
   "outputs": [],
   "source": [
    "iterations = 10\n",
    "regularization_parameter = 0.1\n",
    "rank = 4\n",
    "errors = []\n",
    "err = 0"
   ]
  },
  {
   "cell_type": "code",
   "execution_count": 72,
   "id": "afba0155",
   "metadata": {},
   "outputs": [
    {
     "name": "stdout",
     "output_type": "stream",
     "text": [
      "Root Mean Square Error Value = 0.8960000361640219\n"
     ]
    }
   ],
   "source": [
    "als = ALS(maxIter=iterations, regParam=regularization_parameter, rank=4, userCol=\"user_id\", itemCol=\"book_id\", ratingCol=\"rating\")\n",
    "model = als.fit(training_df)\n",
    "predictions = model.transform(validation_df)\n",
    "new_predictions = predictions.filter(col('prediction') != np.nan)\n",
    "evaluator = RegressionEvaluator(metricName='rmse', labelCol=\"rating\", predictionCol=\"prediction\")\n",
    "rmse = evaluator.eval uate(new_predictions)\n",
    "print(\"Root Mean Square Error Value = \" + str(rmse))"
   ]
  },
  {
   "cell_type": "code",
   "execution_count": 30,
   "id": "30f8a038",
   "metadata": {},
   "outputs": [
    {
     "name": "stdout",
     "output_type": "stream",
     "text": [
      "Root Mean Square Error Value = 0.8992263548594341\n"
     ]
    }
   ],
   "source": [
    "als = ALS(maxIter=iterations, regParam=regularization_parameter, rank=5, userCol=\"user_id\", itemCol=\"book_id\", ratingCol=\"rating\")\n",
    "model = als.fit(training_df)\n",
    "predictions = model.transform(validation_df)\n",
    "new_predictions = predictions.filter(col('prediction') != np.nan)\n",
    "evaluator = RegressionEvaluator(metricName='rmse', labelCol=\"rating\", predictionCol=\"prediction\")\n",
    "rmse = evaluator.evaluate(new_predictions)\n",
    "print(\"Root Mean Square Error Value = \" + str(rmse))"
   ]
  },
  {
   "cell_type": "code",
   "execution_count": 43,
   "id": "b4f8ece5",
   "metadata": {},
   "outputs": [
    {
     "name": "stdout",
     "output_type": "stream",
     "text": [
      "Root Mean Square Error Value = 0.8960000361640219\n",
      "Root Mean Square Error Value = 0.9029444727550067\n",
      "Root Mean Square Error Value = 0.9028908423711779\n"
     ]
    }
   ],
   "source": [
    "for rank in range(4,7):\n",
    "    als = ALS(maxIter=iterations, regParam=regularization_parameter, rank=rank, userCol=\"user_id\", itemCol=\"book_id\", ratingCol=\"rating\")\n",
    "    model = als.fit(training_df)\n",
    "    predictions = model.transform(validation_df)\n",
    "    new_predictions = predictions.filter(col('prediction') != np.nan)\n",
    "    evaluator = RegressionEvaluator(metricName='rmse', labelCol=\"rating\", predictionCol=\"prediction\")\n",
    "    rmse = evaluator.evaluate(new_predictions)\n",
    "    print(\"Root Mean Square Error Value = \" + str(rmse))"
   ]
  },
  {
   "cell_type": "code",
   "execution_count": 44,
   "id": "c917c519",
   "metadata": {},
   "outputs": [
    {
     "name": "stdout",
     "output_type": "stream",
     "text": [
      "+-------+-------+------+----------+\n",
      "|book_id|user_id|rating|prediction|\n",
      "+-------+-------+------+----------+\n",
      "|    148|  10727|     4| 3.5015664|\n",
      "|    148|   3922|     3| 3.5108101|\n",
      "|    148|  32055|     3| 3.1069179|\n",
      "|    148|   7001|     4| 3.8818383|\n",
      "|    148|  20967|     3| 3.9724705|\n",
      "|    148|  14248|     4| 3.5841208|\n",
      "|    148|  18313|     4|  3.227728|\n",
      "|    148|   5461|     4| 3.9333022|\n",
      "|    148|  11569|     2|  3.675868|\n",
      "|    148|  27934|     4| 3.2381752|\n",
      "+-------+-------+------+----------+\n",
      "only showing top 10 rows\n",
      "\n"
     ]
    }
   ],
   "source": [
    "predictions = model.transform(validation_df)\n",
    "predictions.show(n=10)"
   ]
  },
  {
   "cell_type": "code",
   "execution_count": 45,
   "id": "0c0ebe03",
   "metadata": {},
   "outputs": [
    {
     "name": "stdout",
     "output_type": "stream",
     "text": [
      "+-------+----------+----------+\n",
      "|user_id|     title|prediction|\n",
      "+-------+----------+----------+\n",
      "|   6213|Lysistrata|  2.942966|\n",
      "|  40820|Lysistrata| 3.5782363|\n",
      "|  11326|Lysistrata| 4.1027613|\n",
      "|  12466|Lysistrata| 3.9606495|\n",
      "|  22034|Lysistrata| 4.2580414|\n",
      "+-------+----------+----------+\n",
      "only showing top 5 rows\n",
      "\n"
     ]
    }
   ],
   "source": [
    "predictions.join(books_df, \"book_id\").select(\"user_id\",\"title\",\"prediction\").show(5)"
   ]
  },
  {
   "cell_type": "code",
   "execution_count": 66,
   "id": "c23ca3c5",
   "metadata": {},
   "outputs": [
    {
     "data": {
      "text/plain": [
       "15975"
      ]
     },
     "execution_count": 66,
     "metadata": {},
     "output_type": "execute_result"
    }
   ],
   "source": [
    "one_user = predictions.join(books_df, \"book_id\").select(\"user_id\", \"title\", \"image_url\", \"prediction\")\n",
    "one_user.count()"
   ]
  },
  {
   "cell_type": "code",
   "execution_count": 67,
   "id": "f5a89512",
   "metadata": {},
   "outputs": [
    {
     "name": "stdout",
     "output_type": "stream",
     "text": [
      "+-------+----------+--------------------+----------+\n",
      "|user_id|     title|           image_url|prediction|\n",
      "+-------+----------+--------------------+----------+\n",
      "|   6213|Lysistrata|https://images.gr...|  2.942966|\n",
      "|  40820|Lysistrata|https://images.gr...| 3.5782363|\n",
      "|  11326|Lysistrata|https://images.gr...| 4.1027613|\n",
      "|  12466|Lysistrata|https://images.gr...| 3.9606495|\n",
      "|  22034|Lysistrata|https://images.gr...| 4.2580414|\n",
      "|  38734|Lysistrata|https://images.gr...| 4.4405894|\n",
      "|  51663|Lysistrata|https://images.gr...|  3.790297|\n",
      "|  41249|Lysistrata|https://images.gr...| 3.9698422|\n",
      "|  12395|Lysistrata|https://images.gr...|   4.48356|\n",
      "|  26812|Lysistrata|https://images.gr...|  3.753693|\n",
      "|   2854|Lysistrata|https://images.gr...| 3.4827216|\n",
      "|  37585|Lysistrata|https://images.gr...|  3.102296|\n",
      "|  23376|Lysistrata|https://images.gr...|  3.305453|\n",
      "|  41329|Lysistrata|https://images.gr...|  4.028338|\n",
      "|  39423|Lysistrata|https://images.gr...| 3.6367629|\n",
      "|  42508|Lysistrata|https://images.gr...|  4.233019|\n",
      "|  21728|Lysistrata|https://images.gr...| 3.6210763|\n",
      "|   2432|Lysistrata|https://images.gr...| 4.2689652|\n",
      "|  19812|Lysistrata|https://images.gr...|  3.758933|\n",
      "|  30794|Lysistrata|https://images.gr...|  3.474276|\n",
      "+-------+----------+--------------------+----------+\n",
      "only showing top 20 rows\n",
      "\n"
     ]
    }
   ],
   "source": [
    "one_user.show()"
   ]
  },
  {
   "cell_type": "code",
   "execution_count": 55,
   "id": "7b79d82a",
   "metadata": {},
   "outputs": [
    {
     "name": "stdout",
     "output_type": "stream",
     "text": [
      "Notes from a Small Island\n"
     ]
    },
    {
     "data": {
      "text/html": [
       "<img src=\"https://images.gr-assets.com/books/1479653223m/28.jpg\"/>"
      ],
      "text/plain": [
       "<IPython.core.display.Image object>"
      ]
     },
     "metadata": {},
     "output_type": "display_data"
    },
    {
     "name": "stdout",
     "output_type": "stream",
     "text": [
      "The Ultimate Hitchhiker's Guide to the Galaxy\n"
     ]
    },
    {
     "data": {
      "text/html": [
       "<img src=\"https://images.gr-assets.com/books/1404613595m/13.jpg\"/>"
      ],
      "text/plain": [
       "<IPython.core.display.Image object>"
      ]
     },
     "metadata": {},
     "output_type": "display_data"
    },
    {
     "name": "stdout",
     "output_type": "stream",
     "text": [
      "The Lord of the Rings: The Art of The Fellowship of the Ring\n"
     ]
    },
    {
     "data": {
      "text/html": [
       "<img src=\"https://s.gr-assets.com/assets/nophoto/book/111x148-bcc042a9c91a29c1d680899eff700a03.png\"/>"
      ],
      "text/plain": [
       "<IPython.core.display.Image object>"
      ]
     },
     "metadata": {},
     "output_type": "display_data"
    },
    {
     "name": "stdout",
     "output_type": "stream",
     "text": [
      "Freakonomics: A Rogue Economist Explores the Hidden Side of Everything (Freakonomics, #1)\n"
     ]
    },
    {
     "data": {
      "text/html": [
       "<img src=\"https://images.gr-assets.com/books/1327909092m/1202.jpg\"/>"
      ],
      "text/plain": [
       "<IPython.core.display.Image object>"
      ]
     },
     "metadata": {},
     "output_type": "display_data"
    }
   ],
   "source": [
    "for book in one_user.take(10):\n",
    "    print(book.title)\n",
    "    display(Image(url=book.image_url))"
   ]
  },
  {
   "cell_type": "code",
   "execution_count": 56,
   "id": "981aa7b9",
   "metadata": {},
   "outputs": [],
   "source": [
    "userRecomments = model.recommendForAllUsers(5)\n",
    "bookRecomments = model.recommendForAllItems(5)"
   ]
  },
  {
   "cell_type": "code",
   "execution_count": 57,
   "id": "3cadf51c",
   "metadata": {},
   "outputs": [
    {
     "name": "stdout",
     "output_type": "stream",
     "text": [
      "+-------+------------------------------+\n",
      "|user_id|book_id                       |\n",
      "+-------+------------------------------+\n",
      "|148    |[8703, 3491, 8362, 1338, 2590]|\n",
      "|463    |[9842, 7947, 4609, 1937, 4154]|\n",
      "|471    |[3491, 6920, 862, 6590, 2840] |\n",
      "|496    |[2051, 3457, 7480, 9182, 3920]|\n",
      "|833    |[8521, 9842, 3953, 8703, 7550]|\n",
      "|1088   |[1788, 6920, 5207, 3628, 7254]|\n",
      "|1238   |[3802, 3482, 7157, 5286, 3459]|\n",
      "|1342   |[3628, 9076, 3282, 5207, 1788]|\n",
      "|1580   |[3491, 6920, 6902, 7440, 3885]|\n",
      "|1591   |[3746, 7762, 6102, 5376, 8606]|\n",
      "+-------+------------------------------+\n",
      "only showing top 10 rows\n",
      "\n"
     ]
    }
   ],
   "source": [
    "userRecomments.select(\"user_id\",\"recommendations.book_id\").show(10, False)"
   ]
  },
  {
   "cell_type": "code",
   "execution_count": 58,
   "id": "7b8bfbf2",
   "metadata": {},
   "outputs": [
    {
     "name": "stdout",
     "output_type": "stream",
     "text": [
      "root\n",
      " |-- user_id: integer (nullable = false)\n",
      " |-- recommendations: array (nullable = true)\n",
      " |    |-- element: struct (containsNull = true)\n",
      " |    |    |-- book_id: integer (nullable = true)\n",
      " |    |    |-- rating: float (nullable = true)\n",
      "\n"
     ]
    }
   ],
   "source": [
    "userRecomments.printSchema()"
   ]
  },
  {
   "cell_type": "code",
   "execution_count": 59,
   "id": "ba5675b1",
   "metadata": {},
   "outputs": [
    {
     "name": "stdout",
     "output_type": "stream",
     "text": [
      "+-------+-----------------------------------+\n",
      "|book_id|user_id                            |\n",
      "+-------+-----------------------------------+\n",
      "|1580   |[30757, 23041, 28493, 31411, 41819]|\n",
      "|4900   |[49360, 27206, 6505, 41168, 33351] |\n",
      "|5300   |[20122, 25541, 27771, 41807, 5592] |\n",
      "|6620   |[50333, 45247, 25287, 30757, 27969]|\n",
      "|7240   |[49360, 41819, 1653, 19137, 51626] |\n",
      "|7340   |[41819, 6975, 13033, 31186, 52453] |\n",
      "|7880   |[33211, 43853, 30699, 34886, 34547]|\n",
      "|9900   |[16210, 38076, 21791, 27645, 9274] |\n",
      "|471    |[41819, 49360, 31411, 51614, 51190]|\n",
      "|1591   |[31186, 6975, 31411, 41819, 47036] |\n",
      "+-------+-----------------------------------+\n",
      "only showing top 10 rows\n",
      "\n"
     ]
    }
   ],
   "source": [
    "bookRecomments.select(\"book_id\", \"recommendations.user_id\").show(10, False)"
   ]
  },
  {
   "cell_type": "code",
   "execution_count": 60,
   "id": "1b6747cb",
   "metadata": {},
   "outputs": [
    {
     "name": "stdout",
     "output_type": "stream",
     "text": [
      "+-------+\n",
      "|user_id|\n",
      "+-------+\n",
      "|  32592|\n",
      "|  19984|\n",
      "|  35982|\n",
      "+-------+\n",
      "\n"
     ]
    }
   ],
   "source": [
    "users = ratings_df.select(\"user_id\").distinct().limit(3);\n",
    "users.show()"
   ]
  },
  {
   "cell_type": "code",
   "execution_count": 62,
   "id": "e16d16d5",
   "metadata": {},
   "outputs": [
    {
     "name": "stdout",
     "output_type": "stream",
     "text": [
      "+-------+--------------------+\n",
      "|user_id|     recommendations|\n",
      "+-------+--------------------+\n",
      "|  32592|[{3491, 4.756344}...|\n",
      "|  35982|[{1788, 5.0571103...|\n",
      "|  19984|[{8233, 6.1203356...|\n",
      "+-------+--------------------+\n",
      "\n"
     ]
    }
   ],
   "source": [
    "userSubsetRecs = model.recommendForUserSubset(users, 10)\n",
    "userSubsetRecs.show()"
   ]
  },
  {
   "cell_type": "code",
   "execution_count": 63,
   "id": "23f91abc",
   "metadata": {},
   "outputs": [
    {
     "name": "stdout",
     "output_type": "stream",
     "text": [
      "+-------+------------------------------------------------------------+\n",
      "|user_id|book_id                                                     |\n",
      "+-------+------------------------------------------------------------+\n",
      "|32592  |[3491, 862, 8362, 562, 2840, 6920, 267, 852, 3885, 6590]    |\n",
      "|35982  |[1788, 3628, 5207, 2205, 9076, 7254, 5880, 6591, 9504, 8757]|\n",
      "|19984  |[8233, 3491, 8362, 6920, 8926, 6862, 267, 2840, 6400, 3885] |\n",
      "+-------+------------------------------------------------------------+\n",
      "\n"
     ]
    }
   ],
   "source": [
    "userSubsetRecs.select(\"user_id\",\"recommendations.book_id\").show(10, False)"
   ]
  },
  {
   "cell_type": "code",
   "execution_count": 64,
   "id": "a1c988ed",
   "metadata": {},
   "outputs": [
    {
     "name": "stdout",
     "output_type": "stream",
     "text": [
      "+-------+\n",
      "|book_id|\n",
      "+-------+\n",
      "|    148|\n",
      "|    463|\n",
      "|    471|\n",
      "+-------+\n",
      "\n"
     ]
    }
   ],
   "source": [
    "books = ratings_df.select(\"book_id\").distinct().limit(3)\n",
    "books.show()"
   ]
  },
  {
   "cell_type": "code",
   "execution_count": null,
   "id": "be244d58",
   "metadata": {},
   "outputs": [],
   "source": []
  }
 ],
 "metadata": {
  "kernelspec": {
   "display_name": "Python 3 (ipykernel)",
   "language": "python",
   "name": "python3"
  },
  "language_info": {
   "codemirror_mode": {
    "name": "ipython",
    "version": 3
   },
   "file_extension": ".py",
   "mimetype": "text/x-python",
   "name": "python",
   "nbconvert_exporter": "python",
   "pygments_lexer": "ipython3",
   "version": "3.11.3"
  }
 },
 "nbformat": 4,
 "nbformat_minor": 5
}
